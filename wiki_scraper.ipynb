{
 "cells": [
  {
   "cell_type": "code",
   "execution_count": 2,
   "metadata": {},
   "outputs": [],
   "source": [
    "import pandas as pd\n",
    "import html5lib"
   ]
  },
  {
   "cell_type": "code",
   "execution_count": 3,
   "metadata": {},
   "outputs": [
    {
     "data": {
      "text/html": [
       "<div>\n",
       "<style scoped>\n",
       "    .dataframe tbody tr th:only-of-type {\n",
       "        vertical-align: middle;\n",
       "    }\n",
       "\n",
       "    .dataframe tbody tr th {\n",
       "        vertical-align: top;\n",
       "    }\n",
       "\n",
       "    .dataframe thead th {\n",
       "        text-align: right;\n",
       "    }\n",
       "</style>\n",
       "<table border=\"1\" class=\"dataframe\">\n",
       "  <thead>\n",
       "    <tr style=\"text-align: right;\">\n",
       "      <th></th>\n",
       "      <th>TICKER</th>\n",
       "      <th>COMPANY</th>\n",
       "      <th>GICS_SECTOR</th>\n",
       "      <th>GICS_INDUSTRY</th>\n",
       "      <th>HQ</th>\n",
       "      <th>DATE</th>\n",
       "      <th>CIK</th>\n",
       "    </tr>\n",
       "  </thead>\n",
       "  <tbody>\n",
       "    <tr>\n",
       "      <td>0</td>\n",
       "      <td>MMM</td>\n",
       "      <td>3M Company</td>\n",
       "      <td>Industrials</td>\n",
       "      <td>Industrial Conglomerates</td>\n",
       "      <td>St. Paul, Minnesota</td>\n",
       "      <td>1976-08-09</td>\n",
       "      <td>0000066740</td>\n",
       "    </tr>\n",
       "    <tr>\n",
       "      <td>1</td>\n",
       "      <td>ABT</td>\n",
       "      <td>Abbott Laboratories</td>\n",
       "      <td>Health Care</td>\n",
       "      <td>Health Care Equipment</td>\n",
       "      <td>North Chicago, Illinois</td>\n",
       "      <td>1964-03-31</td>\n",
       "      <td>0000001800</td>\n",
       "    </tr>\n",
       "    <tr>\n",
       "      <td>2</td>\n",
       "      <td>ABBV</td>\n",
       "      <td>AbbVie Inc.</td>\n",
       "      <td>Health Care</td>\n",
       "      <td>Pharmaceuticals</td>\n",
       "      <td>North Chicago, Illinois</td>\n",
       "      <td>2012-12-31</td>\n",
       "      <td>0001551152</td>\n",
       "    </tr>\n",
       "    <tr>\n",
       "      <td>3</td>\n",
       "      <td>ABMD</td>\n",
       "      <td>ABIOMED Inc</td>\n",
       "      <td>Health Care</td>\n",
       "      <td>Health Care Equipment</td>\n",
       "      <td>Danvers, Massachusetts</td>\n",
       "      <td>2018-05-31</td>\n",
       "      <td>0000815094</td>\n",
       "    </tr>\n",
       "    <tr>\n",
       "      <td>4</td>\n",
       "      <td>ACN</td>\n",
       "      <td>Accenture plc</td>\n",
       "      <td>Information Technology</td>\n",
       "      <td>IT Consulting &amp; Other Services</td>\n",
       "      <td>Dublin, Ireland</td>\n",
       "      <td>2011-07-06</td>\n",
       "      <td>0001467373</td>\n",
       "    </tr>\n",
       "  </tbody>\n",
       "</table>\n",
       "</div>"
      ],
      "text/plain": [
       "  TICKER              COMPANY             GICS_SECTOR  \\\n",
       "0    MMM           3M Company             Industrials   \n",
       "1    ABT  Abbott Laboratories             Health Care   \n",
       "2   ABBV          AbbVie Inc.             Health Care   \n",
       "3   ABMD          ABIOMED Inc             Health Care   \n",
       "4    ACN        Accenture plc  Information Technology   \n",
       "\n",
       "                    GICS_INDUSTRY                       HQ        DATE  \\\n",
       "0        Industrial Conglomerates      St. Paul, Minnesota  1976-08-09   \n",
       "1           Health Care Equipment  North Chicago, Illinois  1964-03-31   \n",
       "2                 Pharmaceuticals  North Chicago, Illinois  2012-12-31   \n",
       "3           Health Care Equipment   Danvers, Massachusetts  2018-05-31   \n",
       "4  IT Consulting & Other Services          Dublin, Ireland  2011-07-06   \n",
       "\n",
       "          CIK  \n",
       "0  0000066740  \n",
       "1  0000001800  \n",
       "2  0001551152  \n",
       "3  0000815094  \n",
       "4  0001467373  "
      ]
     },
     "execution_count": 3,
     "metadata": {},
     "output_type": "execute_result"
    }
   ],
   "source": [
    "# Prep dataframe for JSON conversion\n",
    "ticker_list = pd.read_html('https://en.wikipedia.org/wiki/List_of_S%26P_500_companies')\n",
    "df = ticker_list[0]\n",
    "df.drop(columns = ['SEC filings', 'Founded'], inplace = True)\n",
    "df.CIK = df.CIK.astype(str)\n",
    "df['CIK'] = df['CIK'].str.zfill(10)\n",
    "df.rename(columns = {'Symbol':'TICKER', 'Security':'COMPANY', 'GICS Sector':'GICS_SECTOR', 'Date first added':'DATE',\n",
    "                     'GICS Sub Industry':'GICS_INDUSTRY', 'Headquarters Location':'HQ'}, inplace = True)\n",
    "df['WIKI_URL'] = ''\n",
    "df.head()"
   ]
  },
  {
   "cell_type": "code",
   "execution_count": 2,
   "metadata": {},
   "outputs": [],
   "source": [
    "from bs4 import BeautifulSoup\n",
    "import requests, re"
   ]
  },
  {
   "cell_type": "code",
   "execution_count": 90,
   "metadata": {},
   "outputs": [],
   "source": [
    "request = requests.get('https://en.wikipedia.org/wiki/List_of_S%26P_500_companies')"
   ]
  },
  {
   "cell_type": "code",
   "execution_count": 91,
   "metadata": {},
   "outputs": [
    {
     "data": {
      "text/html": [
       "<div>\n",
       "<style scoped>\n",
       "    .dataframe tbody tr th:only-of-type {\n",
       "        vertical-align: middle;\n",
       "    }\n",
       "\n",
       "    .dataframe tbody tr th {\n",
       "        vertical-align: top;\n",
       "    }\n",
       "\n",
       "    .dataframe thead th {\n",
       "        text-align: right;\n",
       "    }\n",
       "</style>\n",
       "<table border=\"1\" class=\"dataframe\">\n",
       "  <thead>\n",
       "    <tr style=\"text-align: right;\">\n",
       "      <th></th>\n",
       "      <th>TICKER</th>\n",
       "      <th>COMPANY</th>\n",
       "      <th>GICS_SECTOR</th>\n",
       "      <th>GICS_INDUSTRY</th>\n",
       "      <th>HQ</th>\n",
       "      <th>CIK</th>\n",
       "      <th>WIKI_URL</th>\n",
       "    </tr>\n",
       "  </thead>\n",
       "  <tbody>\n",
       "    <tr>\n",
       "      <td>0</td>\n",
       "      <td>MMM</td>\n",
       "      <td>3M Company</td>\n",
       "      <td>Industrials</td>\n",
       "      <td>Industrial Conglomerates</td>\n",
       "      <td>St. Paul, Minnesota</td>\n",
       "      <td>0000066740</td>\n",
       "      <td>https://en.wikipedia.org/wiki/3M</td>\n",
       "    </tr>\n",
       "    <tr>\n",
       "      <td>1</td>\n",
       "      <td>ABT</td>\n",
       "      <td>Abbott Laboratories</td>\n",
       "      <td>Health Care</td>\n",
       "      <td>Health Care Equipment</td>\n",
       "      <td>North Chicago, Illinois</td>\n",
       "      <td>0000001800</td>\n",
       "      <td>https://en.wikipedia.org/wiki/Abbott_Laboratories</td>\n",
       "    </tr>\n",
       "    <tr>\n",
       "      <td>2</td>\n",
       "      <td>ABBV</td>\n",
       "      <td>AbbVie Inc.</td>\n",
       "      <td>Health Care</td>\n",
       "      <td>Pharmaceuticals</td>\n",
       "      <td>North Chicago, Illinois</td>\n",
       "      <td>0001551152</td>\n",
       "      <td>https://en.wikipedia.org/wiki/AbbVie_Inc.</td>\n",
       "    </tr>\n",
       "    <tr>\n",
       "      <td>3</td>\n",
       "      <td>ABMD</td>\n",
       "      <td>ABIOMED Inc</td>\n",
       "      <td>Health Care</td>\n",
       "      <td>Health Care Equipment</td>\n",
       "      <td>Danvers, Massachusetts</td>\n",
       "      <td>0000815094</td>\n",
       "      <td>https://en.wikipedia.org/wiki/Abiomed</td>\n",
       "    </tr>\n",
       "    <tr>\n",
       "      <td>4</td>\n",
       "      <td>ACN</td>\n",
       "      <td>Accenture plc</td>\n",
       "      <td>Information Technology</td>\n",
       "      <td>IT Consulting &amp; Other Services</td>\n",
       "      <td>Dublin, Ireland</td>\n",
       "      <td>0001467373</td>\n",
       "      <td>https://en.wikipedia.org/wiki/Accenture_plc</td>\n",
       "    </tr>\n",
       "  </tbody>\n",
       "</table>\n",
       "</div>"
      ],
      "text/plain": [
       "  TICKER              COMPANY             GICS_SECTOR  \\\n",
       "0    MMM           3M Company             Industrials   \n",
       "1    ABT  Abbott Laboratories             Health Care   \n",
       "2   ABBV          AbbVie Inc.             Health Care   \n",
       "3   ABMD          ABIOMED Inc             Health Care   \n",
       "4    ACN        Accenture plc  Information Technology   \n",
       "\n",
       "                    GICS_INDUSTRY                       HQ         CIK  \\\n",
       "0        Industrial Conglomerates      St. Paul, Minnesota  0000066740   \n",
       "1           Health Care Equipment  North Chicago, Illinois  0000001800   \n",
       "2                 Pharmaceuticals  North Chicago, Illinois  0001551152   \n",
       "3           Health Care Equipment   Danvers, Massachusetts  0000815094   \n",
       "4  IT Consulting & Other Services          Dublin, Ireland  0001467373   \n",
       "\n",
       "                                            WIKI_URL  \n",
       "0                   https://en.wikipedia.org/wiki/3M  \n",
       "1  https://en.wikipedia.org/wiki/Abbott_Laboratories  \n",
       "2          https://en.wikipedia.org/wiki/AbbVie_Inc.  \n",
       "3              https://en.wikipedia.org/wiki/Abiomed  \n",
       "4        https://en.wikipedia.org/wiki/Accenture_plc  "
      ]
     },
     "execution_count": 91,
     "metadata": {},
     "output_type": "execute_result"
    }
   ],
   "source": [
    "# Use BeautifulSoup to extract wiki urls for each ticker and add to dataframe\n",
    "soup = BeautifulSoup(request.content)\n",
    "main_table = soup.find(id='constituents')\n",
    "table = main_table.find('tbody').findAll('tr')\n",
    "table = table[1:]\n",
    "\n",
    "base_url = 'https://en.wikipedia.org'\n",
    "url_list = []\n",
    "for item in table:\n",
    "    url = base_url + str(item.findAll('a')[1]['href'])\n",
    "    url_list.append(url)\n",
    "    \n",
    "df['WIKI_URL'] = url_list\n",
    "df.head()"
   ]
  },
  {
   "cell_type": "code",
   "execution_count": 141,
   "metadata": {},
   "outputs": [],
   "source": [
    "def people_extractor(url):\n",
    "\n",
    "    output = 'none' # return none if field doesn't exist\n",
    "    vcard_list = pd.read_html(url)\n",
    "    df = vcard_list[0]\n",
    "    \n",
    "    if len(df.columns) == 2:\n",
    "        df.columns = ['columns', 'data']\n",
    "        # most output tables have 2 elements\n",
    "    else:\n",
    "        df.columns = ['columns', 'data', 'trash']\n",
    "        df.drop(columns = 'trash', inplace = True)\n",
    "        # sometimes the table output has 3 elements\n",
    "        \n",
    "    df.set_index(df['columns'], inplace = True)\n",
    "    df.drop(columns = 'columns', inplace = True)\n",
    "    df = df.transpose()\n",
    "    \n",
    "    if 'Key people' in df.columns:\n",
    "        output = df['Key people'][0]\n",
    "    \n",
    "    return output"
   ]
  },
  {
   "cell_type": "code",
   "execution_count": 143,
   "metadata": {},
   "outputs": [],
   "source": [
    "def products_extractor(url):\n",
    "\n",
    "    output = 'none' # return none if field doesn't exist\n",
    "    vcard_list = pd.read_html(url)\n",
    "    df = vcard_list[0]\n",
    "    \n",
    "    if len(df.columns) == 2:\n",
    "        df.columns = ['columns', 'data']\n",
    "        # most output tables have 2 elements\n",
    "    else:\n",
    "        df.columns = ['columns', 'data', 'trash']\n",
    "        df.drop(columns = 'trash', inplace = True)\n",
    "        # sometimes the table output has 3 elements\n",
    "        \n",
    "    df.set_index(df['columns'], inplace = True)\n",
    "    df.drop(columns = 'columns', inplace = True)\n",
    "    df = df.transpose()\n",
    "    \n",
    "    if 'Products' in df.columns:\n",
    "        output = df['Products'][0]\n",
    "    \n",
    "    return output"
   ]
  },
  {
   "cell_type": "code",
   "execution_count": 144,
   "metadata": {},
   "outputs": [],
   "source": [
    "def services_extractor(url):\n",
    "\n",
    "    output = 'none' # return none if field doesn't exist\n",
    "    vcard_list = pd.read_html(url)\n",
    "    df = vcard_list[0]\n",
    "    \n",
    "    if len(df.columns) == 2:\n",
    "        df.columns = ['columns', 'data']\n",
    "        # most output tables have 2 elements\n",
    "    else:\n",
    "        df.columns = ['columns', 'data', 'trash']\n",
    "        df.drop(columns = 'trash', inplace = True)\n",
    "        # sometimes the table output has 3 elements\n",
    "        \n",
    "    df.set_index(df['columns'], inplace = True)\n",
    "    df.drop(columns = 'columns', inplace = True)\n",
    "    df = df.transpose()\n",
    "    \n",
    "    if 'Services' in df.columns:\n",
    "        output = df['Services'][0]\n",
    "    \n",
    "    return output"
   ]
  },
  {
   "cell_type": "code",
   "execution_count": 145,
   "metadata": {},
   "outputs": [
    {
     "data": {
      "text/html": [
       "<div>\n",
       "<style scoped>\n",
       "    .dataframe tbody tr th:only-of-type {\n",
       "        vertical-align: middle;\n",
       "    }\n",
       "\n",
       "    .dataframe tbody tr th {\n",
       "        vertical-align: top;\n",
       "    }\n",
       "\n",
       "    .dataframe thead th {\n",
       "        text-align: right;\n",
       "    }\n",
       "</style>\n",
       "<table border=\"1\" class=\"dataframe\">\n",
       "  <thead>\n",
       "    <tr style=\"text-align: right;\">\n",
       "      <th></th>\n",
       "      <th>TICKER</th>\n",
       "      <th>COMPANY</th>\n",
       "      <th>GICS_SECTOR</th>\n",
       "      <th>GICS_INDUSTRY</th>\n",
       "      <th>HQ</th>\n",
       "      <th>CIK</th>\n",
       "      <th>WIKI_URL</th>\n",
       "      <th>KEY_PEOPLE</th>\n",
       "      <th>PRODUCTS</th>\n",
       "      <th>SERVICES</th>\n",
       "    </tr>\n",
       "  </thead>\n",
       "  <tbody>\n",
       "    <tr>\n",
       "      <td>0</td>\n",
       "      <td>MMM</td>\n",
       "      <td>3M Company</td>\n",
       "      <td>Industrials</td>\n",
       "      <td>Industrial Conglomerates</td>\n",
       "      <td>St. Paul, Minnesota</td>\n",
       "      <td>0000066740</td>\n",
       "      <td>https://en.wikipedia.org/wiki/3M</td>\n",
       "      <td>Mike Roman(Chairman, President, &amp; CEO)</td>\n",
       "      <td>none</td>\n",
       "      <td>none</td>\n",
       "    </tr>\n",
       "    <tr>\n",
       "      <td>1</td>\n",
       "      <td>ABT</td>\n",
       "      <td>Abbott Laboratories</td>\n",
       "      <td>Health Care</td>\n",
       "      <td>Health Care Equipment</td>\n",
       "      <td>North Chicago, Illinois</td>\n",
       "      <td>0000001800</td>\n",
       "      <td>https://en.wikipedia.org/wiki/Abbott_Laboratories</td>\n",
       "      <td>Miles D. White(Executive Chairman)Robert B. Fo...</td>\n",
       "      <td>Branded generic medicinesMedical devicesDiagno...</td>\n",
       "      <td>none</td>\n",
       "    </tr>\n",
       "    <tr>\n",
       "      <td>2</td>\n",
       "      <td>ABBV</td>\n",
       "      <td>AbbVie Inc.</td>\n",
       "      <td>Health Care</td>\n",
       "      <td>Pharmaceuticals</td>\n",
       "      <td>North Chicago, Illinois</td>\n",
       "      <td>0001551152</td>\n",
       "      <td>https://en.wikipedia.org/wiki/AbbVie_Inc.</td>\n",
       "      <td>Richard A. Gonzalez(Chairman and CEO)Michael S...</td>\n",
       "      <td>Pharmaceutical drugs Humira (adalimumab) Imbru...</td>\n",
       "      <td>none</td>\n",
       "    </tr>\n",
       "    <tr>\n",
       "      <td>3</td>\n",
       "      <td>ABMD</td>\n",
       "      <td>ABIOMED Inc</td>\n",
       "      <td>Health Care</td>\n",
       "      <td>Health Care Equipment</td>\n",
       "      <td>Danvers, Massachusetts</td>\n",
       "      <td>0000815094</td>\n",
       "      <td>https://en.wikipedia.org/wiki/Abiomed</td>\n",
       "      <td>Michael R. Minogue, CEO</td>\n",
       "      <td>Cardiovascular medical implant devices</td>\n",
       "      <td>none</td>\n",
       "    </tr>\n",
       "    <tr>\n",
       "      <td>4</td>\n",
       "      <td>ACN</td>\n",
       "      <td>Accenture plc</td>\n",
       "      <td>Information Technology</td>\n",
       "      <td>IT Consulting &amp; Other Services</td>\n",
       "      <td>Dublin, Ireland</td>\n",
       "      <td>0001467373</td>\n",
       "      <td>https://en.wikipedia.org/wiki/Accenture_plc</td>\n",
       "      <td>David RowlandJulie Sweet (CEO)</td>\n",
       "      <td>none</td>\n",
       "      <td>Strategy &amp; Consulting, Interactive, Technology...</td>\n",
       "    </tr>\n",
       "  </tbody>\n",
       "</table>\n",
       "</div>"
      ],
      "text/plain": [
       "  TICKER              COMPANY             GICS_SECTOR  \\\n",
       "0    MMM           3M Company             Industrials   \n",
       "1    ABT  Abbott Laboratories             Health Care   \n",
       "2   ABBV          AbbVie Inc.             Health Care   \n",
       "3   ABMD          ABIOMED Inc             Health Care   \n",
       "4    ACN        Accenture plc  Information Technology   \n",
       "\n",
       "                    GICS_INDUSTRY                       HQ         CIK  \\\n",
       "0        Industrial Conglomerates      St. Paul, Minnesota  0000066740   \n",
       "1           Health Care Equipment  North Chicago, Illinois  0000001800   \n",
       "2                 Pharmaceuticals  North Chicago, Illinois  0001551152   \n",
       "3           Health Care Equipment   Danvers, Massachusetts  0000815094   \n",
       "4  IT Consulting & Other Services          Dublin, Ireland  0001467373   \n",
       "\n",
       "                                            WIKI_URL  \\\n",
       "0                   https://en.wikipedia.org/wiki/3M   \n",
       "1  https://en.wikipedia.org/wiki/Abbott_Laboratories   \n",
       "2          https://en.wikipedia.org/wiki/AbbVie_Inc.   \n",
       "3              https://en.wikipedia.org/wiki/Abiomed   \n",
       "4        https://en.wikipedia.org/wiki/Accenture_plc   \n",
       "\n",
       "                                          KEY_PEOPLE  \\\n",
       "0             Mike Roman(Chairman, President, & CEO)   \n",
       "1  Miles D. White(Executive Chairman)Robert B. Fo...   \n",
       "2  Richard A. Gonzalez(Chairman and CEO)Michael S...   \n",
       "3                            Michael R. Minogue, CEO   \n",
       "4                     David RowlandJulie Sweet (CEO)   \n",
       "\n",
       "                                            PRODUCTS  \\\n",
       "0                                               none   \n",
       "1  Branded generic medicinesMedical devicesDiagno...   \n",
       "2  Pharmaceutical drugs Humira (adalimumab) Imbru...   \n",
       "3             Cardiovascular medical implant devices   \n",
       "4                                               none   \n",
       "\n",
       "                                            SERVICES  \n",
       "0                                               none  \n",
       "1                                               none  \n",
       "2                                               none  \n",
       "3                                               none  \n",
       "4  Strategy & Consulting, Interactive, Technology...  "
      ]
     },
     "execution_count": 145,
     "metadata": {},
     "output_type": "execute_result"
    }
   ],
   "source": [
    "df['KEY_PEOPLE'] = df['WIKI_URL'].apply(people_extractor)\n",
    "df['PRODUCTS'] = df['WIKI_URL'].apply(products_extractor)\n",
    "df['SERVICES'] = df['WIKI_URL'].apply(services_extractor)\n",
    "df.head()"
   ]
  },
  {
   "cell_type": "code",
   "execution_count": 146,
   "metadata": {},
   "outputs": [],
   "source": [
    "df.to_pickle('wiki_table.pkl')"
   ]
  },
  {
   "cell_type": "code",
   "execution_count": 4,
   "metadata": {},
   "outputs": [],
   "source": [
    "df = pd.read_pickle('wiki_table.pkl')"
   ]
  },
  {
   "cell_type": "code",
   "execution_count": 5,
   "metadata": {},
   "outputs": [],
   "source": [
    "df['PEOPLE_LIST'] = ''\n",
    "bad_list = []\n",
    "\n",
    "for i in df.index:\n",
    "\n",
    "    inp = df['KEY_PEOPLE'][i]\n",
    "    \n",
    "    if inp != 'none':\n",
    "        \n",
    "        # Remove title words found outside parens or brackets\n",
    "        text = inp.replace('and', '').replace('CFO', '').replace('CEO', '').replace('&', '').replace('.', '').replace(',', '')\\\n",
    "                  .replace('President', '').replace('/', '').replace('Pres', '').replace('Chairman', '').replace('General', '')\\\n",
    "                  .replace('counsel', '').replace('Chair', '').replace('Managing', '').replace('Director', '')\\\n",
    "                  .replace('Chief', '').replace('Executive', '').replace('Officer', '').replace('Jr', '').replace('of', '')\\\n",
    "                  .replace('the', '').replace('Board', '').replace('Governed', '').replace('14-member', '').replace('Trustees', '')\\\n",
    "                  .replace('Sanford', '').replace('Cloud', '').replace('Lead', '').replace('Trustee', '').replace('chief', '')\\\n",
    "                  .replace('executive', '').replace('officer', '').replace('ficer', '').replace('vice', '').replace('president', '')\\\n",
    "                  .replace('financial', '').replace('legal', '').replace('legal', '').replace('Dr', '').replace('chairman', '')\\\n",
    "                  .replace('SO', '')\n",
    "        \n",
    "        # Regex to remove all words inside parenthesis and brackets, special characters, numbers, etc;\n",
    "        text1 = re.sub(\"[\\(\\[].*?[\\)\\]]\", \" \", text)\n",
    "        text2 = re.sub(r\"(\\w)([A-Z])\", r\"\\1 \\2\", text1)\n",
    "        text3 = re.sub(r'\"[^)]*\"', '', text2)\n",
    "        text4 = re.sub(' [A-Z]* ', ' ', text3)\n",
    "        text5 = re.sub('[A-Z]* ', ' ', text4)\n",
    "        text6 = re.sub(r'[^a-zA-Z0-9\\s]', '', text5)\n",
    "        text7 = re.sub('[0-9]', '', text6)\n",
    "        out = text7.strip()\n",
    "        word_list = out.split()\n",
    "        \n",
    "        df['PEOPLE_LIST'][i] = word_list\n",
    "        \n",
    "        # Attempt at identifying lists that cannot be easily merged first name + last name by find lists with odd number of elements;\n",
    "        if len(df['PEOPLE_LIST'][i]) % 2 != 0:\n",
    "            bad_list.append(i)"
   ]
  },
  {
   "cell_type": "code",
   "execution_count": 6,
   "metadata": {},
   "outputs": [
    {
     "data": {
      "text/plain": [
       "48"
      ]
     },
     "execution_count": 6,
     "metadata": {},
     "output_type": "execute_result"
    }
   ],
   "source": [
    "len(bad_list)"
   ]
  },
  {
   "cell_type": "code",
   "execution_count": 7,
   "metadata": {
    "scrolled": true
   },
   "outputs": [
    {
     "data": {
      "text/plain": [
       "7      [Lisa, Su, John, Edward, Caldwell, Mark, Paper...\n",
       "11                                    [Mike, Mc, Mullen]\n",
       "42        [Elizabeth, Tallett, Gail, Koziara, Boudreaux]\n",
       "51     [Jayshree, Ullal, Andy, Bechtolsheim, Kenneth,...\n",
       "74     [Owen, Thomas, Douglas, Linde, Michael, La, Be...\n",
       "77                      [Henry, Samueli, Tan, Hock, Eng]\n",
       "79              [Lawson, Whiting, George, Garvin, Brown]\n",
       "110                                   [Bruce, Van, Saun]\n",
       "123                                     [John, Mc, Avoy]\n",
       "127                  [Wendell, Weeks, Lawrence, Mc, Rae]\n",
       "138    [Javier, Rodriguez, Peter, Grauer, lead, indep...\n",
       "193                [James, Herbert, Hafize, Gaye, Erkan]\n",
       "199                  [William, Clay, Ford, Jim, Hackett]\n",
       "205    [Jennifer, Johnson, Gregory, Johnson, Rupert, ...\n",
       "219                          [Macpherson, Thomas, Okray]\n",
       "245    [Lawrence, Kingsley, Jay, Mazelsky, Brian, Mc,...\n",
       "248    [Francis, de, Souza, Jay, Flatley, Sam, Samad,...\n",
       "259    [Rex, Adams, Martin, Flanagan, Phil, Taylor, S...\n",
       "261            [Dennis, Gillings, Founder, Ari, Bousbib]\n",
       "281    [Rodney, Mc, Mullen, Yael, Cosset, Michael, Do...\n",
       "282    [Andrew, Menslow, Charles, Mc, Guigan, Stuart,...\n",
       "305        [Dan, Glaser, Mark, Mc, Givney, Stacy, Mills]\n",
       "308    [Ajaypal, Singh, Banga, Richard, Haythornthwaite]\n",
       "319    [Sanjay, Mehrotra, Gurtej, Singh, Shu, Robert,...\n",
       "326                                [Raymond, Mc, Daniel]\n",
       "328              [Robert, Lumpkins, James, Joc, ORourke]\n",
       "338    [Rupert, Murdoch, Lachlan, Murdoch, Robert, Ja...\n",
       "339    [Rupert, Murdoch, Lachlan, Murdoch, Robert, Ja...\n",
       "345    [Brad, Smith, Peter, Nordstrom, Erik, Nordstro...\n",
       "350                                    [Frank, del, Rio]\n",
       "372                            [Murray, Kessler, Member]\n",
       "379                                 [Michael, Mc, Garry]\n",
       "387    [Wayne, Hughes, founder, Ronald, Havner, Josep...\n",
       "392    [Steven, Mollenkopf, Cristiano, Amon, Mark, Mc...\n",
       "397         [Michael, Mc, Kee, Sumit, Roy, Paul, Meurer]\n",
       "399         [Leonard, Schleifer, George, Yancopoulos, C]\n",
       "400    [Charles, Mc, Crary, John, Turner, David, Turner]\n",
       "401    [Donald, Slager, Jon, Ver, Ark, Chuck, Seriann...\n",
       "412                                 [Olivier, Le, Peuch]\n",
       "416    [Bill, Mc, Dermott, Chirantan, Desai, Lara, Ca...\n",
       "420    [Stephen, Green, Marc, Holliday, Andrew, Mathi...\n",
       "427    [Walter, Rosebrough, Daniel, Carestio, Michael...\n",
       "448    [Nicholas, Howley, Kevin, Stein, Raymond, Laub...\n",
       "472    [Reshma, Kewalramani, Stuart, Arbuckle, Vice, ...\n",
       "476    [Thomas, Hill, John, Mc, Pherson, Financial, M...\n",
       "479                     [Greg, Penner, Doug, Mc, Millon]\n",
       "486                                   [Thomas, De, Rosa]\n",
       "503    [Harris, Simmons, Scott, Mc, Lean, Paul, Burdiss]\n",
       "Name: PEOPLE_LIST, dtype: object"
      ]
     },
     "execution_count": 7,
     "metadata": {},
     "output_type": "execute_result"
    }
   ],
   "source": [
    "# Looking at output from above; specifically the 48 entries that have odd numbers\n",
    "df['PEOPLE_LIST'].iloc[bad_list]"
   ]
  },
  {
   "cell_type": "code",
   "execution_count": 8,
   "metadata": {
    "scrolled": true
   },
   "outputs": [
    {
     "data": {
      "text/plain": [
       "0                                         [Mike, Roman]\n",
       "1           [Miles, White, Robert, Ford, Robert, Funck]\n",
       "2                [Richard, Gonzalez, Michael, Severino]\n",
       "3                                    [Michael, Minogue]\n",
       "4                           [David, Rowl, Julie, Sweet]\n",
       "5     [Brian, Kelly, Bobby, Kotick, Daniel, Alegre, ...\n",
       "6     [Shantanu, Narayen, John, Murphy, Abhay, Paras...\n",
       "7     [Lisa, Su, John, Edward, Caldwell, Mark, Paper...\n",
       "8                                                      \n",
       "9                          [Jay, Morse, Andres, Gluski]\n",
       "10                     [Dan, Amos, Frederick, Crawford]\n",
       "11                                   [Mike, Mc, Mullen]\n",
       "12                                     [Seifi, Ghasemi]\n",
       "13               [Thomson, Leighton, Frederic, Salerno]\n",
       "14           [Brad, Tilden, Ben, Minicucci, Gary, Beck]\n",
       "15                                                     \n",
       "16                      [Joel, Marcus, Dean, Shigenaga]\n",
       "17                     [Leonard, Bell, Ludwig, Hantson]\n",
       "18                                         [Joe, Hogan]\n",
       "19                                                     \n",
       "20                                                     \n",
       "21                                                     \n",
       "22                                     [Thomas, Wilson]\n",
       "23    [Larry, Page, Sergey, Brin, John, Hennessy, Su...\n",
       "24    [Larry, Page, Sergey, Brin, John, Hennessy, Su...\n",
       "25                                     [Billy, Gifford]\n",
       "26                        [Jeff, Bezos, Werner, Vogels]\n",
       "27                                         [Ron, Delia]\n",
       "28    [Warner, Baxter, Martin, Lyons, Michael, Moehn...\n",
       "29            [Doug, Parker, Robert, Isom, Derek, Kerr]\n",
       "30                                        [Nick, Akins]\n",
       "31                 [Stephen, Squeri, Jeffrey, Campbell]\n",
       "32    [Douglas, Steenl, Brian, Duperreault, Peter, Z...\n",
       "33                                      [Tom, Bartlett]\n",
       "34                                      [Walter, Lynch]\n",
       "35                                                     \n",
       "36                                                     \n",
       "37                      [David, Zapico, William, Burke]\n",
       "38                                    [Robert, Bradway]\n",
       "39                                      [Adam, Norwitt]\n",
       "40                     [Vincent, Roche, Raymond, Stata]\n",
       "41                        [James, Cashman, Ajei, Gopal]\n",
       "42       [Elizabeth, Tallett, Gail, Koziara, Boudreaux]\n",
       "43                      [Gregory, Case, Lester, Knight]\n",
       "44                                    [Ajita, Rajendra]\n",
       "45                                   [John, Christmann]\n",
       "46                                   [Terry, Considine]\n",
       "47        [Arthur, Levinson, Tim, Cook, Jeff, Williams]\n",
       "48                  [Gary, Dickerson, Thomas, Iannotti]\n",
       "49                         [Rajiv, Gupta, Kevin, Clark]\n",
       "Name: PEOPLE_LIST, dtype: object"
      ]
     },
     "execution_count": 8,
     "metadata": {},
     "output_type": "execute_result"
    }
   ],
   "source": [
    "# Looking at entire output\n",
    "df['PEOPLE_LIST'].head(50)"
   ]
  },
  {
   "cell_type": "code",
   "execution_count": 9,
   "metadata": {
    "scrolled": true
   },
   "outputs": [
    {
     "data": {
      "text/plain": [
       "0                Mike Roman(Chairman, President, & CEO)\n",
       "1     Miles D. White(Executive Chairman)Robert B. Fo...\n",
       "2     Richard A. Gonzalez(Chairman and CEO)Michael S...\n",
       "3                               Michael R. Minogue, CEO\n",
       "4                        David RowlandJulie Sweet (CEO)\n",
       "5     Brian Kelly(chairman)Bobby Kotick(CEO)Daniel A...\n",
       "6     Shantanu Narayen (Chairman and CEO)John F. Mur...\n",
       "7     Lisa Su (President and CEO)John Edward Caldwel...\n",
       "8                                                  none\n",
       "9     Jay Morse (Chairman)Andres Gluski (President, ...\n",
       "10    Dan Amos (Chairman, CEO)Frederick J. Crawford ...\n",
       "11                                  Mike McMullen (CEO)\n",
       "12       Seifi Ghasemi (CEO),(chairman) and (president)\n",
       "13    F. Thomson Leighton(CEO and Co-Founder)Frederi...\n",
       "14    Brad Tilden (Chairman and CEO) Ben Minicucci (...\n",
       "15                                                 none\n",
       "16       Joel S. Marcus, ChairmanDean A. Shigenaga, CFO\n",
       "17       Leonard Bell (Chairman)Ludwig N. Hantson (CEO)\n",
       "18                         Joe Hogan(President) & (CEO)\n",
       "19                                                 none\n",
       "20                                                 none\n",
       "21                                                 none\n",
       "22       Thomas J. Wilson(Chairman, President, and CEO)\n",
       "23    Larry Page (co-founder)Sergey Brin (co-founder...\n",
       "24    Larry Page (co-founder)Sergey Brin (co-founder...\n",
       "25                        Billy Gifford(Chairman & CEO)\n",
       "26    Jeff Bezos (chairman, president and CEO)Werner...\n",
       "27    Ron Delia, Managing Director and Chief Executi...\n",
       "28    Warner L. Baxter (Chairman, President & Chief ...\n",
       "29    Doug Parker (Chairman and CEO)[3]Robert Isom (...\n",
       "30                                     Nick Akins (CEO)\n",
       "31    Stephen J. Squeri(Chairman & CEO)Jeffrey C. Ca...\n",
       "32    Douglas Steenland, ChairBrian Duperreault, Pre...\n",
       "33             Tom Bartlett, Chairman, CEO, & President\n",
       "34                      Walter Lynch, CEO and President\n",
       "35                                                 none\n",
       "36                                                 none\n",
       "37    David A. Zapico(Chairman and CEO)William J. Bu...\n",
       "38      Robert A. Bradway(Chairman, President, and CEO)\n",
       "39                   R. Adam Norwitt, President and CEO\n",
       "40    Vincent Roche, CEO & President, Raymond Stata,...\n",
       "41    James E. Cashman III, ChairmanAjei S. Gopal, P...\n",
       "42    Elizabeth E. Tallett (Chairman)Gail Koziara Bo...\n",
       "43    Gregory C. Case(President and CEO)Lester B. Kn...\n",
       "44                Ajita G. Rajendra (Chairman & CEO)[1]\n",
       "45                           John J. Christmann IV, CEO\n",
       "46                      Terry Considine, Chairman & CEO\n",
       "47    Arthur D. Levinson (Chairman)Tim Cook (CEO)Jef...\n",
       "48    Gary E. Dickerson(President & CEO)Thomas J. Ia...\n",
       "49    Rajiv L. Gupta(Chairman) Kevin P. Clark(Presid...\n",
       "Name: KEY_PEOPLE, dtype: object"
      ]
     },
     "execution_count": 9,
     "metadata": {},
     "output_type": "execute_result"
    }
   ],
   "source": [
    "# Looking at original scraped text\n",
    "df['KEY_PEOPLE'].head(50)"
   ]
  },
  {
   "cell_type": "code",
   "execution_count": 10,
   "metadata": {},
   "outputs": [],
   "source": [
    "# Repair last names that start with 'Mc', 'De', 'Le', etc, due to regex seperating\n",
    "for ind in df['PEOPLE_LIST'].iloc[bad_list].index:\n",
    "    for i in range(len(df['PEOPLE_LIST'][ind])):\n",
    "        if df['PEOPLE_LIST'][ind][i] in ['Mc', 'De', 'Le', 'La', 'de']:\n",
    "            df['PEOPLE_LIST'][ind][i] = df['PEOPLE_LIST'][ind][i]+df['PEOPLE_LIST'][ind][i+1]\n",
    "            df['PEOPLE_LIST'][ind].pop(i+1)\n",
    "            break"
   ]
  },
  {
   "cell_type": "code",
   "execution_count": 11,
   "metadata": {},
   "outputs": [],
   "source": [
    "new_bad_list = []\n",
    "for i in df.index:\n",
    "    if len(df['PEOPLE_LIST'][i]) % 2 != 0:\n",
    "        new_bad_list.append(i)"
   ]
  },
  {
   "cell_type": "code",
   "execution_count": 12,
   "metadata": {},
   "outputs": [
    {
     "data": {
      "text/plain": [
       "7      [Lisa, Su, John, Edward, Caldwell, Mark, Paper...\n",
       "42        [Elizabeth, Tallett, Gail, Koziara, Boudreaux]\n",
       "77                      [Henry, Samueli, Tan, Hock, Eng]\n",
       "79              [Lawson, Whiting, George, Garvin, Brown]\n",
       "110                                   [Bruce, Van, Saun]\n",
       "138    [Javier, Rodriguez, Peter, Grauer, lead, indep...\n",
       "193                [James, Herbert, Hafize, Gaye, Erkan]\n",
       "199                  [William, Clay, Ford, Jim, Hackett]\n",
       "205    [Jennifer, Johnson, Gregory, Johnson, Rupert, ...\n",
       "219                          [Macpherson, Thomas, Okray]\n",
       "259    [Rex, Adams, Martin, Flanagan, Phil, Taylor, S...\n",
       "261            [Dennis, Gillings, Founder, Ari, Bousbib]\n",
       "308    [Ajaypal, Singh, Banga, Richard, Haythornthwaite]\n",
       "319    [Sanjay, Mehrotra, Gurtej, Singh, Shu, Robert,...\n",
       "328              [Robert, Lumpkins, James, Joc, ORourke]\n",
       "338    [Rupert, Murdoch, Lachlan, Murdoch, Robert, Ja...\n",
       "339    [Rupert, Murdoch, Lachlan, Murdoch, Robert, Ja...\n",
       "350                                    [Frank, del, Rio]\n",
       "372                            [Murray, Kessler, Member]\n",
       "387    [Wayne, Hughes, founder, Ronald, Havner, Josep...\n",
       "399         [Leonard, Schleifer, George, Yancopoulos, C]\n",
       "401    [Donald, Slager, Jon, Ver, Ark, Chuck, Seriann...\n",
       "420    [Stephen, Green, Marc, Holliday, Andrew, Mathi...\n",
       "427    [Walter, Rosebrough, Daniel, Carestio, Michael...\n",
       "448    [Nicholas, Howley, Kevin, Stein, Raymond, Laub...\n",
       "472    [Reshma, Kewalramani, Stuart, Arbuckle, Vice, ...\n",
       "Name: PEOPLE_LIST, dtype: object"
      ]
     },
     "execution_count": 12,
     "metadata": {},
     "output_type": "execute_result"
    }
   ],
   "source": [
    "df['PEOPLE_LIST'].iloc[new_bad_list]"
   ]
  },
  {
   "cell_type": "code",
   "execution_count": 13,
   "metadata": {},
   "outputs": [],
   "source": [
    "# Second pass over removing numbers and special characters\n",
    "for ind in df['PEOPLE_LIST'].index:\n",
    "    if ind in bad_list:\n",
    "        for i in range(len(df['PEOPLE_LIST'][ind])):\n",
    "            pattern = '[0-9]'\n",
    "            df['PEOPLE_LIST'][ind][i] = re.sub(r'[^a-zA-Z0-9\\s]', '', df['PEOPLE_LIST'][ind][i])\n",
    "            df['PEOPLE_LIST'][ind][i] = re.sub(pattern, '', df['PEOPLE_LIST'][ind][i])"
   ]
  },
  {
   "cell_type": "code",
   "execution_count": 14,
   "metadata": {
    "scrolled": true
   },
   "outputs": [
    {
     "data": {
      "text/plain": [
       "7      [Lisa, Su, John, Edward, Caldwell, Mark, Paper...\n",
       "11                                      [Mike, McMullen]\n",
       "42        [Elizabeth, Tallett, Gail, Koziara, Boudreaux]\n",
       "51     [Jayshree, Ullal, Andy, Bechtolsheim, Kenneth,...\n",
       "74     [Owen, Thomas, Douglas, Linde, Michael, LaBell...\n",
       "77                      [Henry, Samueli, Tan, Hock, Eng]\n",
       "79              [Lawson, Whiting, George, Garvin, Brown]\n",
       "110                                   [Bruce, Van, Saun]\n",
       "123                                       [John, McAvoy]\n",
       "127                    [Wendell, Weeks, Lawrence, McRae]\n",
       "138    [Javier, Rodriguez, Peter, Grauer, lead, indep...\n",
       "193                [James, Herbert, Hafize, Gaye, Erkan]\n",
       "199                  [William, Clay, Ford, Jim, Hackett]\n",
       "205    [Jennifer, Johnson, Gregory, Johnson, Rupert, ...\n",
       "219                          [Macpherson, Thomas, Okray]\n",
       "245    [Lawrence, Kingsley, Jay, Mazelsky, Brian, McK...\n",
       "248    [Francis, deSouza, Jay, Flatley, Sam, Samad, F...\n",
       "259    [Rex, Adams, Martin, Flanagan, Phil, Taylor, S...\n",
       "261            [Dennis, Gillings, Founder, Ari, Bousbib]\n",
       "281    [Rodney, McMullen, Yael, Cosset, Michael, Donn...\n",
       "282    [Andrew, Menslow, Charles, McGuigan, Stuart, B...\n",
       "305          [Dan, Glaser, Mark, McGivney, Stacy, Mills]\n",
       "308    [Ajaypal, Singh, Banga, Richard, Haythornthwaite]\n",
       "319    [Sanjay, Mehrotra, Gurtej, Singh, Shu, Robert,...\n",
       "326                                  [Raymond, McDaniel]\n",
       "328              [Robert, Lumpkins, James, Joc, ORourke]\n",
       "338    [Rupert, Murdoch, Lachlan, Murdoch, Robert, Ja...\n",
       "339    [Rupert, Murdoch, Lachlan, Murdoch, Robert, Ja...\n",
       "345    [Brad, Smith, Peter, Nordstrom, Erik, Nordstro...\n",
       "350                                    [Frank, del, Rio]\n",
       "372                            [Murray, Kessler, Member]\n",
       "379                                   [Michael, McGarry]\n",
       "387    [Wayne, Hughes, founder, Ronald, Havner, Josep...\n",
       "392    [Steven, Mollenkopf, Cristiano, Amon, Mark, Mc...\n",
       "397           [Michael, McKee, Sumit, Roy, Paul, Meurer]\n",
       "399         [Leonard, Schleifer, George, Yancopoulos, C]\n",
       "400      [Charles, McCrary, John, Turner, David, Turner]\n",
       "401    [Donald, Slager, Jon, Ver, Ark, Chuck, Seriann...\n",
       "412                                   [Olivier, LePeuch]\n",
       "416     [Bill, McDermott, Chirantan, Desai, Lara, Caimi]\n",
       "420    [Stephen, Green, Marc, Holliday, Andrew, Mathi...\n",
       "427    [Walter, Rosebrough, Daniel, Carestio, Michael...\n",
       "448    [Nicholas, Howley, Kevin, Stein, Raymond, Laub...\n",
       "472    [Reshma, Kewalramani, Stuart, Arbuckle, Vice, ...\n",
       "476    [Thomas, Hill, John, McPherson, Financial, Mic...\n",
       "479                       [Greg, Penner, Doug, McMillon]\n",
       "486                                     [Thomas, DeRosa]\n",
       "503      [Harris, Simmons, Scott, McLean, Paul, Burdiss]\n",
       "Name: PEOPLE_LIST, dtype: object"
      ]
     },
     "execution_count": 14,
     "metadata": {},
     "output_type": "execute_result"
    }
   ],
   "source": [
    "df['PEOPLE_LIST'].iloc[bad_list]"
   ]
  },
  {
   "cell_type": "code",
   "execution_count": null,
   "metadata": {},
   "outputs": [],
   "source": [
    "# This is where code to clean Products text will go"
   ]
  },
  {
   "cell_type": "code",
   "execution_count": null,
   "metadata": {},
   "outputs": [],
   "source": [
    "# This is where code to clean Serices text will go"
   ]
  },
  {
   "cell_type": "code",
   "execution_count": null,
   "metadata": {},
   "outputs": [],
   "source": [
    "# This is where the code to convert to JSON will go"
   ]
  },
  {
   "cell_type": "markdown",
   "metadata": {},
   "source": [
    "## Code in cells below are attempts at scraping names directly from websites using BeautifulSoup (abandoned)"
   ]
  },
  {
   "cell_type": "code",
   "execution_count": 310,
   "metadata": {},
   "outputs": [
    {
     "name": "stdout",
     "output_type": "stream",
     "text": [
      "['Arthur D. Levinson', 'Tim Cook', 'Jeff Williams']\n"
     ]
    }
   ],
   "source": [
    "#request1 = requests.get('https://en.wikipedia.org/wiki/Apple_Inc.')\n",
    "#soup1 = BeautifulSoup(request1.content)\n",
    "\n",
    "#vcard = soup.find(class_=\"infobox vcard\")\n",
    "#table_rows = vcard.find('tbody').findAll('tr')\n",
    "\n",
    "#for item in table_rows:\n",
    "#    for div in item.findAll('div'):\n",
    "#        if div.text == 'Key people':\n",
    "#            output = []\n",
    "#            people = item\n",
    "#            for person in people.find('td').findAll('li'):\n",
    "#                output.append(person.find('a').text)\n",
    "#            print(output)"
   ]
  },
  {
   "cell_type": "code",
   "execution_count": 317,
   "metadata": {},
   "outputs": [
    {
     "data": {
      "text/plain": [
       "85"
      ]
     },
     "execution_count": 317,
     "metadata": {},
     "output_type": "execute_result"
    }
   ],
   "source": [
    "#len(str(list(people.find('td').children)))"
   ]
  },
  {
   "cell_type": "code",
   "execution_count": 316,
   "metadata": {},
   "outputs": [
    {
     "name": "stdout",
     "output_type": "stream",
     "text": [
      "[]\n"
     ]
    }
   ],
   "source": [
    "#request2 = requests.get('https://en.wikipedia.org/wiki/Abiomed')\n",
    "#soup2 = BeautifulSoup(request2.content)\n",
    "\n",
    "#vcard2 = soup2.find(class_=\"infobox vcard\")\n",
    "#table_rows2 = vcard2.find('tbody').findAll('tr')\n",
    "\n",
    "#for item in table_rows2:\n",
    "#    for div in item.findAll('div'):\n",
    "#        if div.text == 'Key people':\n",
    "#            output = []\n",
    "#            people = item\n",
    "#            for person in people.find('td').findAll('li'):\n",
    "#                output.append(person.find('a').text)\n",
    "#            print(output)"
   ]
  },
  {
   "cell_type": "code",
   "execution_count": 318,
   "metadata": {},
   "outputs": [
    {
     "name": "stdout",
     "output_type": "stream",
     "text": [
      "['Julie Sweet']\n"
     ]
    }
   ],
   "source": [
    "#request3 = requests.get('https://en.wikipedia.org/wiki/Accenture')\n",
    "#soup3 = BeautifulSoup(request3.content)\n",
    "\n",
    "#vcard3 = soup3.find(class_=\"infobox vcard\")\n",
    "#table_rows3 = vcard3.find('tbody').findAll('tr')\n",
    "\n",
    "#for item in table_rows3:\n",
    "#    for div in item.findAll('div'):\n",
    "#        if div.text == 'Key people':\n",
    "#            output = []\n",
    "#            people = item\n",
    "#            for person in people.find('td').findAll('li'):\n",
    "#                output.append(person.find('a').text)\n",
    "#            print(output)"
   ]
  },
  {
   "cell_type": "code",
   "execution_count": null,
   "metadata": {},
   "outputs": [],
   "source": []
  }
 ],
 "metadata": {
  "kernelspec": {
   "display_name": "Python 3",
   "language": "python",
   "name": "python3"
  },
  "language_info": {
   "codemirror_mode": {
    "name": "ipython",
    "version": 3
   },
   "file_extension": ".py",
   "mimetype": "text/x-python",
   "name": "python",
   "nbconvert_exporter": "python",
   "pygments_lexer": "ipython3",
   "version": "3.7.4"
  }
 },
 "nbformat": 4,
 "nbformat_minor": 4
}
